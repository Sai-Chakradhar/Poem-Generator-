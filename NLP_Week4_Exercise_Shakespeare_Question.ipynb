{
  "nbformat": 4,
  "nbformat_minor": 0,
  "metadata": {
    "accelerator": "GPU",
    "colab": {
      "name": "NLP_Week4_Exercise_Shakespeare_Question.ipynb",
      "provenance": [],
      "toc_visible": true
    },
    "kernelspec": {
      "display_name": "Python 3",
      "name": "python3"
    }
  },
  "cells": [
    {
      "cell_type": "code",
      "metadata": {
        "id": "zX4Kg8DUTKWO",
        "colab_type": "code",
        "colab": {}
      },
      "source": [
        "#@title Licensed under the Apache License, Version 2.0 (the \"License\");\n",
        "# you may not use this file except in compliance with the License.\n",
        "# You may obtain a copy of the License at\n",
        "#\n",
        "# https://www.apache.org/licenses/LICENSE-2.0\n",
        "#\n",
        "# Unless required by applicable law or agreed to in writing, software\n",
        "# distributed under the License is distributed on an \"AS IS\" BASIS,\n",
        "# WITHOUT WARRANTIES OR CONDITIONS OF ANY KIND, either express or implied.\n",
        "# See the License for the specific language governing permissions and\n",
        "# limitations under the License."
      ],
      "execution_count": 2,
      "outputs": []
    },
    {
      "cell_type": "code",
      "metadata": {
        "colab_type": "code",
        "id": "BOwsuGQQY9OL",
        "colab": {}
      },
      "source": [
        "from tensorflow.keras.preprocessing.sequence import pad_sequences\n",
        "from tensorflow.keras.layers import Embedding, LSTM, Dense, Dropout, Bidirectional\n",
        "from tensorflow.keras.preprocessing.text import Tokenizer\n",
        "from tensorflow.keras.models import Sequential\n",
        "from tensorflow.keras.optimizers import Adam\n",
        "### YOUR CODE HERE\n",
        "from tensorflow.keras import regularizers\n",
        "###\n",
        "import tensorflow.keras.utils as ku \n",
        "import numpy as np "
      ],
      "execution_count": 3,
      "outputs": []
    },
    {
      "cell_type": "code",
      "metadata": {
        "colab_type": "code",
        "id": "PRnDnCW-Z7qv",
        "colab": {
          "base_uri": "https://localhost:8080/",
          "height": 204
        },
        "outputId": "bf94c42c-04b5-4fba-fab1-911eae4cf32b"
      },
      "source": [
        "tokenizer = Tokenizer()\n",
        "!wget --no-check-certificate \\\n",
        "    https://storage.googleapis.com/laurencemoroney-blog.appspot.com/sonnets.txt \\\n",
        "    -O /tmp/sonnets.txt\n",
        "data = open('/tmp/sonnets.txt').read()\n",
        "\n",
        "corpus = data.lower().split(\"\\n\")\n",
        "\n",
        "\n",
        "tokenizer.fit_on_texts(corpus)\n",
        "total_words = len(tokenizer.word_index) + 1\n",
        "\n",
        "# create input sequences using list of tokens\n",
        "input_sequences = []\n",
        "for line in corpus:\n",
        "\ttoken_list = tokenizer.texts_to_sequences([line])[0]\n",
        "\tfor i in range(1, len(token_list)):\n",
        "\t\tn_gram_sequence = token_list[:i+1]\n",
        "\t\tinput_sequences.append(n_gram_sequence)\n",
        "\n",
        "\n",
        "# pad sequences \n",
        "max_sequence_len = max([len(x) for x in input_sequences])\n",
        "input_sequences = np.array(pad_sequences(input_sequences, maxlen=max_sequence_len, padding='pre'))\n",
        "\n",
        "# create predictors and label\n",
        "predictors, label = input_sequences[:,:-1],input_sequences[:,-1]\n",
        "\n",
        "label = ku.to_categorical(label, num_classes=total_words)"
      ],
      "execution_count": 4,
      "outputs": [
        {
          "output_type": "stream",
          "text": [
            "--2020-07-15 11:12:17--  https://storage.googleapis.com/laurencemoroney-blog.appspot.com/sonnets.txt\n",
            "Resolving storage.googleapis.com (storage.googleapis.com)... 173.194.216.128, 64.233.170.128, 172.217.204.128, ...\n",
            "Connecting to storage.googleapis.com (storage.googleapis.com)|173.194.216.128|:443... connected.\n",
            "HTTP request sent, awaiting response... 200 OK\n",
            "Length: 93578 (91K) [text/plain]\n",
            "Saving to: ‘/tmp/sonnets.txt’\n",
            "\n",
            "\r/tmp/sonnets.txt      0%[                    ]       0  --.-KB/s               \r/tmp/sonnets.txt    100%[===================>]  91.38K  --.-KB/s    in 0.001s  \n",
            "\n",
            "2020-07-15 11:12:17 (73.3 MB/s) - ‘/tmp/sonnets.txt’ saved [93578/93578]\n",
            "\n"
          ],
          "name": "stdout"
        }
      ]
    },
    {
      "cell_type": "code",
      "metadata": {
        "colab_type": "code",
        "id": "w9vH8Y59ajYL",
        "colab": {
          "base_uri": "https://localhost:8080/",
          "height": 374
        },
        "outputId": "751c8874-b919-4bf5-e28a-0f6436b17a88"
      },
      "source": [
        "model = Sequential()\n",
        "model.add(Embedding(total_words,100,input_length = max_sequence_len-1))\n",
        "model.add(Bidirectional(LSTM(100,return_sequences=True)))\n",
        "model.add(Dropout(0.2))\n",
        "model.add(Bidirectional(LSTM(100)))\n",
        "model.add(Dense(2*total_words,kernel_regularizer='l2',activation='relu'))\n",
        "model.add(Dense(total_words,activation='softmax'))\n",
        "# Pick an optimizer\n",
        "model.compile(loss = \"categorical_crossentropy\",optimizer='adam',metrics=[\"accuracy\"])\n",
        "print(model.summary())\n"
      ],
      "execution_count": 5,
      "outputs": [
        {
          "output_type": "stream",
          "text": [
            "Model: \"sequential\"\n",
            "_________________________________________________________________\n",
            "Layer (type)                 Output Shape              Param #   \n",
            "=================================================================\n",
            "embedding (Embedding)        (None, 10, 100)           321100    \n",
            "_________________________________________________________________\n",
            "bidirectional (Bidirectional (None, 10, 200)           160800    \n",
            "_________________________________________________________________\n",
            "dropout (Dropout)            (None, 10, 200)           0         \n",
            "_________________________________________________________________\n",
            "bidirectional_1 (Bidirection (None, 200)               240800    \n",
            "_________________________________________________________________\n",
            "dense (Dense)                (None, 6422)              1290822   \n",
            "_________________________________________________________________\n",
            "dense_1 (Dense)              (None, 3211)              20624253  \n",
            "=================================================================\n",
            "Total params: 22,637,775\n",
            "Trainable params: 22,637,775\n",
            "Non-trainable params: 0\n",
            "_________________________________________________________________\n",
            "None\n"
          ],
          "name": "stdout"
        }
      ]
    },
    {
      "cell_type": "code",
      "metadata": {
        "colab_type": "code",
        "id": "AIg2f1HBxqof",
        "colab": {
          "base_uri": "https://localhost:8080/",
          "height": 1000
        },
        "outputId": "66d6c6af-7ba7-452c-cb65-8fb51e95b7f8"
      },
      "source": [
        " history = model.fit(predictors, label, epochs=100, verbose=1)"
      ],
      "execution_count": 6,
      "outputs": [
        {
          "output_type": "stream",
          "text": [
            "Epoch 1/100\n",
            "484/484 [==============================] - 8s 17ms/step - loss: 6.9048 - accuracy: 0.0200\n",
            "Epoch 2/100\n",
            "484/484 [==============================] - 8s 17ms/step - loss: 6.5155 - accuracy: 0.0248\n",
            "Epoch 3/100\n",
            "484/484 [==============================] - 8s 17ms/step - loss: 6.4230 - accuracy: 0.0255\n",
            "Epoch 4/100\n",
            "484/484 [==============================] - 8s 17ms/step - loss: 6.3115 - accuracy: 0.0339\n",
            "Epoch 5/100\n",
            "484/484 [==============================] - 8s 17ms/step - loss: 6.1891 - accuracy: 0.0383\n",
            "Epoch 6/100\n",
            "484/484 [==============================] - 8s 16ms/step - loss: 6.0714 - accuracy: 0.0396\n",
            "Epoch 7/100\n",
            "484/484 [==============================] - 8s 17ms/step - loss: 5.9592 - accuracy: 0.0462\n",
            "Epoch 8/100\n",
            "484/484 [==============================] - 8s 17ms/step - loss: 5.8412 - accuracy: 0.0512\n",
            "Epoch 9/100\n",
            "484/484 [==============================] - 8s 17ms/step - loss: 5.7081 - accuracy: 0.0590\n",
            "Epoch 10/100\n",
            "484/484 [==============================] - 8s 17ms/step - loss: 5.6039 - accuracy: 0.0635\n",
            "Epoch 11/100\n",
            "484/484 [==============================] - 8s 17ms/step - loss: 5.4842 - accuracy: 0.0705\n",
            "Epoch 12/100\n",
            "484/484 [==============================] - 8s 16ms/step - loss: 5.3697 - accuracy: 0.0820\n",
            "Epoch 13/100\n",
            "484/484 [==============================] - 8s 16ms/step - loss: 5.2619 - accuracy: 0.0892\n",
            "Epoch 14/100\n",
            "484/484 [==============================] - 8s 16ms/step - loss: 5.1468 - accuracy: 0.1005\n",
            "Epoch 15/100\n",
            "484/484 [==============================] - 8s 16ms/step - loss: 5.0400 - accuracy: 0.1083\n",
            "Epoch 16/100\n",
            "484/484 [==============================] - 8s 17ms/step - loss: 4.9261 - accuracy: 0.1195\n",
            "Epoch 17/100\n",
            "484/484 [==============================] - 8s 16ms/step - loss: 4.8143 - accuracy: 0.1271\n",
            "Epoch 18/100\n",
            "484/484 [==============================] - 8s 16ms/step - loss: 4.6999 - accuracy: 0.1367\n",
            "Epoch 19/100\n",
            "484/484 [==============================] - 8s 16ms/step - loss: 4.5744 - accuracy: 0.1511\n",
            "Epoch 20/100\n",
            "484/484 [==============================] - 8s 16ms/step - loss: 4.4556 - accuracy: 0.1621\n",
            "Epoch 21/100\n",
            "484/484 [==============================] - 8s 16ms/step - loss: 4.3300 - accuracy: 0.1724\n",
            "Epoch 22/100\n",
            "484/484 [==============================] - 8s 16ms/step - loss: 4.2236 - accuracy: 0.1861\n",
            "Epoch 23/100\n",
            "484/484 [==============================] - 8s 16ms/step - loss: 4.1024 - accuracy: 0.1986\n",
            "Epoch 24/100\n",
            "484/484 [==============================] - 8s 17ms/step - loss: 3.9842 - accuracy: 0.2147\n",
            "Epoch 25/100\n",
            "484/484 [==============================] - 8s 16ms/step - loss: 3.8754 - accuracy: 0.2258\n",
            "Epoch 26/100\n",
            "484/484 [==============================] - 8s 17ms/step - loss: 3.7589 - accuracy: 0.2500\n",
            "Epoch 27/100\n",
            "484/484 [==============================] - 8s 17ms/step - loss: 3.6425 - accuracy: 0.2684\n",
            "Epoch 28/100\n",
            "484/484 [==============================] - 8s 17ms/step - loss: 3.5337 - accuracy: 0.2859\n",
            "Epoch 29/100\n",
            "484/484 [==============================] - 8s 16ms/step - loss: 3.4376 - accuracy: 0.3099\n",
            "Epoch 30/100\n",
            "484/484 [==============================] - 8s 17ms/step - loss: 3.3448 - accuracy: 0.3294\n",
            "Epoch 31/100\n",
            "484/484 [==============================] - 8s 18ms/step - loss: 3.2423 - accuracy: 0.3503\n",
            "Epoch 32/100\n",
            "484/484 [==============================] - 8s 17ms/step - loss: 3.1453 - accuracy: 0.3681\n",
            "Epoch 33/100\n",
            "484/484 [==============================] - 8s 16ms/step - loss: 3.0678 - accuracy: 0.3939\n",
            "Epoch 34/100\n",
            "484/484 [==============================] - 8s 16ms/step - loss: 2.9779 - accuracy: 0.4082\n",
            "Epoch 35/100\n",
            "484/484 [==============================] - 8s 16ms/step - loss: 2.9033 - accuracy: 0.4276\n",
            "Epoch 36/100\n",
            "484/484 [==============================] - 8s 17ms/step - loss: 2.8288 - accuracy: 0.4380\n",
            "Epoch 37/100\n",
            "484/484 [==============================] - 8s 17ms/step - loss: 2.7627 - accuracy: 0.4587\n",
            "Epoch 38/100\n",
            "484/484 [==============================] - 8s 16ms/step - loss: 2.6806 - accuracy: 0.4721\n",
            "Epoch 39/100\n",
            "484/484 [==============================] - 8s 16ms/step - loss: 2.6223 - accuracy: 0.4924\n",
            "Epoch 40/100\n",
            "484/484 [==============================] - 8s 17ms/step - loss: 2.5532 - accuracy: 0.5038\n",
            "Epoch 41/100\n",
            "484/484 [==============================] - 8s 17ms/step - loss: 2.4904 - accuracy: 0.5207\n",
            "Epoch 42/100\n",
            "484/484 [==============================] - 8s 17ms/step - loss: 2.4157 - accuracy: 0.5336\n",
            "Epoch 43/100\n",
            "484/484 [==============================] - 8s 17ms/step - loss: 2.3629 - accuracy: 0.5527\n",
            "Epoch 44/100\n",
            "484/484 [==============================] - 8s 17ms/step - loss: 2.3049 - accuracy: 0.5655\n",
            "Epoch 45/100\n",
            "484/484 [==============================] - 8s 17ms/step - loss: 2.2637 - accuracy: 0.5742\n",
            "Epoch 46/100\n",
            "484/484 [==============================] - 8s 17ms/step - loss: 2.2118 - accuracy: 0.5816\n",
            "Epoch 47/100\n",
            "484/484 [==============================] - 8s 16ms/step - loss: 2.1668 - accuracy: 0.5913\n",
            "Epoch 48/100\n",
            "484/484 [==============================] - 8s 16ms/step - loss: 2.0965 - accuracy: 0.6129\n",
            "Epoch 49/100\n",
            "484/484 [==============================] - 8s 16ms/step - loss: 2.0760 - accuracy: 0.6149\n",
            "Epoch 50/100\n",
            "484/484 [==============================] - 8s 16ms/step - loss: 2.0270 - accuracy: 0.6277\n",
            "Epoch 51/100\n",
            "484/484 [==============================] - 8s 17ms/step - loss: 1.9868 - accuracy: 0.6357\n",
            "Epoch 52/100\n",
            "484/484 [==============================] - 8s 17ms/step - loss: 1.9394 - accuracy: 0.6484\n",
            "Epoch 53/100\n",
            "484/484 [==============================] - 8s 17ms/step - loss: 1.8968 - accuracy: 0.6570\n",
            "Epoch 54/100\n",
            "484/484 [==============================] - 8s 17ms/step - loss: 1.8663 - accuracy: 0.6622\n",
            "Epoch 55/100\n",
            "484/484 [==============================] - 8s 16ms/step - loss: 1.8218 - accuracy: 0.6706\n",
            "Epoch 56/100\n",
            "484/484 [==============================] - 8s 17ms/step - loss: 1.8083 - accuracy: 0.6752\n",
            "Epoch 57/100\n",
            "484/484 [==============================] - 8s 17ms/step - loss: 1.7670 - accuracy: 0.6829\n",
            "Epoch 58/100\n",
            "484/484 [==============================] - 8s 17ms/step - loss: 1.7427 - accuracy: 0.6908\n",
            "Epoch 59/100\n",
            "484/484 [==============================] - 8s 17ms/step - loss: 1.7002 - accuracy: 0.6970\n",
            "Epoch 60/100\n",
            "484/484 [==============================] - 8s 17ms/step - loss: 1.6861 - accuracy: 0.7037\n",
            "Epoch 61/100\n",
            "484/484 [==============================] - 8s 17ms/step - loss: 1.6518 - accuracy: 0.7134\n",
            "Epoch 62/100\n",
            "484/484 [==============================] - 8s 16ms/step - loss: 1.6179 - accuracy: 0.7178\n",
            "Epoch 63/100\n",
            "484/484 [==============================] - 8s 16ms/step - loss: 1.6114 - accuracy: 0.7187\n",
            "Epoch 64/100\n",
            "484/484 [==============================] - 8s 16ms/step - loss: 1.5854 - accuracy: 0.7218\n",
            "Epoch 65/100\n",
            "484/484 [==============================] - 8s 16ms/step - loss: 1.5617 - accuracy: 0.7271\n",
            "Epoch 66/100\n",
            "484/484 [==============================] - 8s 16ms/step - loss: 1.5275 - accuracy: 0.7350\n",
            "Epoch 67/100\n",
            "484/484 [==============================] - 8s 17ms/step - loss: 1.5247 - accuracy: 0.7343\n",
            "Epoch 68/100\n",
            "484/484 [==============================] - 8s 16ms/step - loss: 1.4958 - accuracy: 0.7412\n",
            "Epoch 69/100\n",
            "484/484 [==============================] - 8s 17ms/step - loss: 1.4657 - accuracy: 0.7465\n",
            "Epoch 70/100\n",
            "484/484 [==============================] - 8s 17ms/step - loss: 1.4458 - accuracy: 0.7498\n",
            "Epoch 71/100\n",
            "484/484 [==============================] - 8s 16ms/step - loss: 1.4205 - accuracy: 0.7570\n",
            "Epoch 72/100\n",
            "484/484 [==============================] - 8s 16ms/step - loss: 1.4121 - accuracy: 0.7573\n",
            "Epoch 73/100\n",
            "484/484 [==============================] - 8s 17ms/step - loss: 1.4068 - accuracy: 0.7575\n",
            "Epoch 74/100\n",
            "484/484 [==============================] - 8s 17ms/step - loss: 1.3967 - accuracy: 0.7588\n",
            "Epoch 75/100\n",
            "484/484 [==============================] - 8s 17ms/step - loss: 1.3655 - accuracy: 0.7641\n",
            "Epoch 76/100\n",
            "484/484 [==============================] - 8s 16ms/step - loss: 1.3504 - accuracy: 0.7671\n",
            "Epoch 77/100\n",
            "484/484 [==============================] - 8s 16ms/step - loss: 1.3365 - accuracy: 0.7716\n",
            "Epoch 78/100\n",
            "484/484 [==============================] - 8s 16ms/step - loss: 1.3086 - accuracy: 0.7780\n",
            "Epoch 79/100\n",
            "484/484 [==============================] - 8s 17ms/step - loss: 1.3194 - accuracy: 0.7729\n",
            "Epoch 80/100\n",
            "484/484 [==============================] - 8s 17ms/step - loss: 1.2888 - accuracy: 0.7784\n",
            "Epoch 81/100\n",
            "484/484 [==============================] - 8s 16ms/step - loss: 1.2696 - accuracy: 0.7811\n",
            "Epoch 82/100\n",
            "484/484 [==============================] - 8s 17ms/step - loss: 1.2716 - accuracy: 0.7809\n",
            "Epoch 83/100\n",
            "484/484 [==============================] - 8s 16ms/step - loss: 1.2602 - accuracy: 0.7834\n",
            "Epoch 84/100\n",
            "484/484 [==============================] - 8s 17ms/step - loss: 1.2572 - accuracy: 0.7841\n",
            "Epoch 85/100\n",
            "484/484 [==============================] - 8s 16ms/step - loss: 1.2496 - accuracy: 0.7830\n",
            "Epoch 86/100\n",
            "484/484 [==============================] - 8s 17ms/step - loss: 1.2358 - accuracy: 0.7870\n",
            "Epoch 87/100\n",
            "484/484 [==============================] - 8s 16ms/step - loss: 1.2210 - accuracy: 0.7902\n",
            "Epoch 88/100\n",
            "484/484 [==============================] - 8s 16ms/step - loss: 1.2084 - accuracy: 0.7929\n",
            "Epoch 89/100\n",
            "484/484 [==============================] - 8s 17ms/step - loss: 1.1943 - accuracy: 0.7966\n",
            "Epoch 90/100\n",
            "484/484 [==============================] - 8s 17ms/step - loss: 1.1873 - accuracy: 0.7943\n",
            "Epoch 91/100\n",
            "484/484 [==============================] - 8s 17ms/step - loss: 1.1871 - accuracy: 0.7935\n",
            "Epoch 92/100\n",
            "484/484 [==============================] - 8s 16ms/step - loss: 1.1677 - accuracy: 0.7957\n",
            "Epoch 93/100\n",
            "484/484 [==============================] - 8s 17ms/step - loss: 1.1672 - accuracy: 0.7965\n",
            "Epoch 94/100\n",
            "484/484 [==============================] - 8s 16ms/step - loss: 1.1525 - accuracy: 0.7977\n",
            "Epoch 95/100\n",
            "484/484 [==============================] - 8s 17ms/step - loss: 1.1490 - accuracy: 0.7997\n",
            "Epoch 96/100\n",
            "484/484 [==============================] - 8s 16ms/step - loss: 1.1409 - accuracy: 0.8011\n",
            "Epoch 97/100\n",
            "484/484 [==============================] - 8s 16ms/step - loss: 1.1412 - accuracy: 0.7992\n",
            "Epoch 98/100\n",
            "484/484 [==============================] - 8s 17ms/step - loss: 1.1188 - accuracy: 0.8046\n",
            "Epoch 99/100\n",
            "484/484 [==============================] - 8s 16ms/step - loss: 1.1254 - accuracy: 0.8034\n",
            "Epoch 100/100\n",
            "484/484 [==============================] - 8s 17ms/step - loss: 1.1017 - accuracy: 0.8087\n"
          ],
          "name": "stdout"
        }
      ]
    },
    {
      "cell_type": "code",
      "metadata": {
        "colab_type": "code",
        "id": "1fXTEO3GJ282",
        "colab": {
          "base_uri": "https://localhost:8080/",
          "height": 545
        },
        "outputId": "4a0fc3b9-09ec-4783-b33d-dd7098d98fc7"
      },
      "source": [
        "import matplotlib.pyplot as plt\n",
        "acc = history.history['accuracy']\n",
        "loss = history.history['loss']\n",
        "\n",
        "epochs = range(len(acc))\n",
        "\n",
        "plt.plot(epochs, acc, 'b', label='Training accuracy')\n",
        "plt.title('Training accuracy')\n",
        "\n",
        "plt.figure()\n",
        "\n",
        "plt.plot(epochs, loss, 'b', label='Training Loss')\n",
        "plt.title('Training loss')\n",
        "plt.legend()\n",
        "\n",
        "plt.show()"
      ],
      "execution_count": 7,
      "outputs": [
        {
          "output_type": "display_data",
          "data": {
            "image/png": "[encoded data removed]",
            "text/plain": [
              "<Figure size 432x288 with 1 Axes>"
            ]
          },
          "metadata": {
            "tags": [],
            "needs_background": "light"
          }
        },
        {
          "output_type": "display_data",
          "data": {
            "image/png": "[encoded data removed]",
            "text/plain": [
              "<Figure size 432x288 with 1 Axes>"
            ]
          },
          "metadata": {
            "tags": [],
            "needs_background": "light"
          }
        }
      ]
    },
    {
      "cell_type": "code",
      "metadata": {
        "colab_type": "code",
        "id": "6Vc6PHgxa6Hm",
        "colab": {
          "base_uri": "https://localhost:8080/",
          "height": 54
        },
        "outputId": "cb121b21-b34a-435f-8cce-1eac47db0235"
      },
      "source": [
        "seed_text = \"It is raining\"\n",
        "next_words = 100\n",
        "  \n",
        "for _ in range(next_words):\n",
        "\ttoken_list = tokenizer.texts_to_sequences([seed_text])[0]\n",
        "\ttoken_list = pad_sequences([token_list], maxlen=max_sequence_len-1, padding='pre')\n",
        "\tpredicted = model.predict_classes(token_list, verbose=0)\n",
        "\toutput_word = \"\"\n",
        "\tfor word, index in tokenizer.word_index.items():\n",
        "\t\tif index == predicted:\n",
        "\t\t\toutput_word = word\n",
        "\t\t\tbreak\n",
        "\tseed_text += \" \" + output_word\n",
        "print(seed_text)"
      ],
      "execution_count": 11,
      "outputs": [
        {
          "output_type": "stream",
          "text": [
            "It is raining the star to every wandering bark ward taken dyed mute hour forth seen made night night more scope and lie to in his friend on men ' now be ill did impute forth thee so love more strong hour ye forth tell her ear they aside aside aside tell ill history that friend new alone so show my state his gentle fiery race delighted night repair still alone well give kind still alone grow light new wastes days hour care to grow mad by mad nor night by crime moan more friend of less thee alone young me one days\n"
          ],
          "name": "stdout"
        }
      ]
    },
    {
      "cell_type": "code",
      "metadata": {
        "id": "riV4FAKLOrYP",
        "colab_type": "code",
        "colab": {}
      },
      "source": [
        ""
      ],
      "execution_count": null,
      "outputs": []
    }
  ]
}